{
 "cells": [
  {
   "cell_type": "code",
   "execution_count": 1,
   "metadata": {},
   "outputs": [],
   "source": [
    "import arcpy\n",
    "import arcpy.sa"
   ]
  },
  {
   "cell_type": "code",
   "execution_count": 2,
   "metadata": {},
   "outputs": [],
   "source": [
    "arcpy.env.workspace = r\"C:\\Users\\justi\\Documents\\2024_FallQuarter\\GEOG580\\Term_Project\\Composite_Rasters\""
   ]
  },
  {
   "cell_type": "code",
   "execution_count": 8,
   "metadata": {},
   "outputs": [
    {
     "name": "stdout",
     "output_type": "stream",
     "text": [
      "C:/Users/justi/Documents/2024_FallQuarter/GEOG580/Term_Project/Output_Rasters/ndvi2016.tif\n",
      "C:/Users/justi/Documents/2024_FallQuarter/GEOG580/Term_Project/Output_Rasters/ndvi2017.tif\n",
      "C:/Users/justi/Documents/2024_FallQuarter/GEOG580/Term_Project/Output_Rasters/ndvi2018.tif\n",
      "C:/Users/justi/Documents/2024_FallQuarter/GEOG580/Term_Project/Output_Rasters/ndvi2019.tif\n",
      "C:/Users/justi/Documents/2024_FallQuarter/GEOG580/Term_Project/Output_Rasters/ndvi2020.tif\n",
      "C:/Users/justi/Documents/2024_FallQuarter/GEOG580/Term_Project/Output_Rasters/ndvi2021.tif\n",
      "C:/Users/justi/Documents/2024_FallQuarter/GEOG580/Term_Project/Output_Rasters/ndvi2022.tif\n",
      "C:/Users/justi/Documents/2024_FallQuarter/GEOG580/Term_Project/Output_Rasters/ndvi2023.tif\n",
      "C:/Users/justi/Documents/2024_FallQuarter/GEOG580/Term_Project/Output_Rasters/ndvi2024.tif\n"
     ]
    }
   ],
   "source": [
    "comp_rasters = arcpy.ListRasters()\n",
    "for comp_raster in comp_rasters:\n",
    "    part = comp_raster.split('.')[0].split('_')[1]\n",
    "    out_raster = r\"C:/Users/justi/Documents/2024_FallQuarter/GEOG580/Term_Project/Output_Rasters/ndvi\" + part + \".tif\"\n",
    "    print(out_raster)"
   ]
  },
  {
   "cell_type": "code",
   "execution_count": 5,
   "metadata": {},
   "outputs": [],
   "source": [
    "## Original Process\n",
    "arcpy.env.workspace = r\"C:\\Users\\justi\\Documents\\2024_FallQuarter\\GEOG580\\Term_Project\\Composite_Rasters\"\n",
    "comp_rasters = arcpy.ListRasters()\n",
    "for comp_raster in comp_rasters:\n",
    "    ndvi_raster = arcpy.ia.NDVI(comp_raster, 4,3)\n",
    "    part = comp_raster.split('.')[0].split('_')[1]\n",
    "    out_raster = r\"C:/Users/justi/Documents/2024_FallQuarter/GEOG580/Term_Project/Output_Rasters/ndvi\" + part + \".tif\"\n",
    "    arcpy.CopyRaster_management(ndvi_raster, out_raster)"
   ]
  },
  {
   "cell_type": "code",
   "execution_count": 8,
   "metadata": {},
   "outputs": [],
   "source": [
    "### trying to add 9999 before I reclassify\n",
    "arcpy.env.workspace = r\"C:\\Users\\justi\\Documents\\2024_FallQuarter\\GEOG580\\Term_Project\\Composite_Rasters\"\n",
    "comp_rasters = arcpy.ListRasters()\n",
    "for comp_raster in comp_rasters:\n",
    "    ndvi_raster = arcpy.ia.NDVI(comp_raster, 4,3)\n",
    "    water_9999 = r'C:\\Users\\justi\\Documents\\2024_FallQuarter\\GEOG580\\Term_Project\\TermProject_working.gdb\\water9999_raster'\n",
    "    part = comp_raster.split('.')[0].split('_')[1]\n",
    "    ndvi_raster_noWater = CellStatistics([ndvi_raster, water_9999], \"SUM\", \"DATA\")\n",
    "    out_raster_noWater = r\"C:/Users/justi/Documents/2024_FallQuarter/GEOG580/Term_Project/Output_Rasters_noWater/ndvi\" + part + \"_9999water.tif\"\n",
    "    out_raster = r\"C:/Users/justi/Documents/2024_FallQuarter/GEOG580/Term_Project/Output_Rasters/ndvi\" + part + \".tif\"\n",
    "    arcpy.CopyRaster_management(ndvi_raster, out_raster)\n",
    "    arcpy.CopyRaster_management(ndvi_raster_noWater, out_raster_noWater)"
   ]
  },
  {
   "cell_type": "code",
   "execution_count": 2,
   "metadata": {},
   "outputs": [],
   "source": [
    "## Original Process\n",
    "import arcpy\n",
    "from arcpy import env  \n",
    "from arcpy.sa import *\n",
    "arcpy.env.workspace = r\"C:\\Users\\justi\\Documents\\2024_FallQuarter\\GEOG580\\Term_Project\\Output_Rasters\"\n",
    "## korchagina - 0.025-0.2 = open soil (1), 0.2-0.5 = sparse veg (2), 0.5-1 = med-high density veg (3), -1-0.025 = impervious (4) \n",
    "## morawitz - -1-0.7 = not forest (0), 0.7-1 = forest (1)\n",
    "## goward (adapted, low moss in July) - -1-0 = manmade (0), 0-0.2 = soil (1), 0.2-0.5 = scrub/litter (2), 0.5-0.7 = moss/med density veg (3), 0.7-1 = dense veg (4)\n",
    "## knight and voth - -1-0.4 = at least partially impervious (0), 0.4-1 = pervious (1)\n",
    "ndvi_rasters = arcpy.ListRasters()\n",
    "for in_ndvi_raster in ndvi_rasters:\n",
    "    year = in_ndvi_raster.split('.')[0].split('i')[1]\n",
    "    reclass_rasters = []\n",
    "    korchagina_reclass_ndvi = Reclassify(in_ndvi_raster, \"Value\", \n",
    "                         RemapRange([[0.025,0.2,1],[0.2,0.5,2],[0.5,1,3],\n",
    "                                     [-1,0.025,4]]))\n",
    "    korchagina_reclass_ndvi.save(r\"C:/Users/justi/Documents/2024_FallQuarter/GEOG580/Term_Project/reclassified_rasters/korchagina_\"+ year +\".tif\")\n",
    "    morawitz_reclass_ndvi = Reclassify(in_ndvi_raster, \"Value\", \n",
    "                         RemapRange([[-1,0.7,0],[0.7,1,1]]))\n",
    "    morawitz_reclass_ndvi.save(r\"C:/Users/justi/Documents/2024_FallQuarter/GEOG580/Term_Project/reclassified_rasters/morawitz_\"+ year +\".tif\")\n",
    "    goward_reclass_ndvi = Reclassify(in_ndvi_raster, \"Value\", \n",
    "                         RemapRange([[0,0.2,1],[0.2,0.5,2],[0.5,0.7,3], [0.7,1,4], [-1,0,0]]))\n",
    "    goward_reclass_ndvi.save(r\"C:/Users/justi/Documents/2024_FallQuarter/GEOG580/Term_Project/reclassified_rasters/goward_\"+ year +\".tif\" )                                 \n",
    "    knight_reclass_ndvi = Reclassify(in_ndvi_raster, \"Value\", \n",
    "                         RemapRange([[-1,0.4,0],[0.4,1,1]]))\n",
    "    knight_reclass_ndvi.save(r\"C:/Users/justi/Documents/2024_FallQuarter/GEOG580/Term_Project/reclassified_rasters/knight_\"+ year +\".tif\")\n",
    "   \n",
    "    \n",
    "    \n",
    "    "
   ]
  },
  {
   "cell_type": "code",
   "execution_count": 9,
   "metadata": {},
   "outputs": [],
   "source": [
    "# Reclassifying out water\n",
    "import arcpy\n",
    "from arcpy import env  \n",
    "from arcpy.sa import *\n",
    "arcpy.env.workspace = r\"C:\\Users\\justi\\Documents\\2024_FallQuarter\\GEOG580\\Term_Project\\Output_Rasters_noWater\"\n",
    "## korchagina - 0.025-0.2 = open soil (1), 0.2-0.5 = sparse veg (2), 0.5-1 = med-high density veg (3), -1-0.025 = impervious (4) \n",
    "## morawitz - -1-0.7 = not forest (0), 0.7-1 = forest (1)\n",
    "## goward (adapted, low moss in July) - -1-0 = manmade, 0-0.2 = soil, 0.2-0.5 = scrub/litter, 0.5-0.7 = moss/med density veg, 0.7-1 = dense veg\n",
    "## knight and voth - -1-0.4 = at least partially impervious, 0.4-1 = pervious\n",
    "ndvi_rasters_noWat = arcpy.ListRasters()\n",
    "for in_ndvi_raster in ndvi_rasters_noWat:\n",
    "    year = in_ndvi_raster.split('.')[0].split('i')[1]\n",
    "    reclass_rasters = []\n",
    "    korchagina_reclass_ndvi_noWat = Reclassify(in_ndvi_raster, \"Value\", \n",
    "                         RemapRange([[0.025,0.2,1],[0.2,0.5,2],[0.5,1,3],\n",
    "                                     [-1,0.025,4], [9000,10000, \"NODATA\"]]))\n",
    "    korchagina_reclass_ndvi_noWat.save(r\"C:/Users/justi/Documents/2024_FallQuarter/GEOG580/Term_Project/reclassified_rasters_noWater/korchagina_\"+ year +\"_noWater.tif\")\n",
    "    morawitz_reclass_ndvi_noWat = Reclassify(in_ndvi_raster, \"Value\", \n",
    "                         RemapRange([[-1,0.7,0],[0.7,1,1],[9000,10000, \"NODATA\"]]))\n",
    "    morawitz_reclass_ndvi_noWat.save(r\"C:/Users/justi/Documents/2024_FallQuarter/GEOG580/Term_Project/reclassified_rasters_noWater/morawitz_\"+ year +\"_noWater.tif\")\n",
    "    goward_reclass_ndvi_noWat = Reclassify(in_ndvi_raster, \"Value\", \n",
    "                         RemapRange([[0,0.2,1],[0.2,0.5,2],[0.5,0.7,3], [0.7,1,4], [-1,0,0],[9000,10000, \"NODATA\"]]))\n",
    "    goward_reclass_ndvi_noWat.save(r\"C:/Users/justi/Documents/2024_FallQuarter/GEOG580/Term_Project/reclassified_rasters_noWater/goward_\"+ year +\"_noWater.tif\" )                                 \n",
    "    knight_reclass_ndvi_noWat = Reclassify(in_ndvi_raster, \"Value\", \n",
    "                         RemapRange([[-1,0.4,0],[0.4,1,1],[9000,10000, \"NODATA\"]]))\n",
    "    knight_reclass_ndvi_noWat.save(r\"C:/Users/justi/Documents/2024_FallQuarter/GEOG580/Term_Project/reclassified_rasters_noWater/knight_\"+ year +\"_noWater.tif\")\n",
    "   \n",
    "    \n",
    "    \n",
    "    "
   ]
  }
 ],
 "metadata": {
  "kernelspec": {
   "display_name": "ArcGISPro",
   "language": "python",
   "name": "python3"
  },
  "language_info": {
   "file_extension": ".py",
   "mimetype": "text/x-python",
   "name": "python",
   "version": "3.11.10"
  }
 },
 "nbformat": 4,
 "nbformat_minor": 4
}
