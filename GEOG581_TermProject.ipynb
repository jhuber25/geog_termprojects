{
 "cells": [
  {
   "cell_type": "code",
   "execution_count": 2,
   "metadata": {},
   "outputs": [],
   "source": [
    "## Load packages ##\n",
    "import arcpy\n",
    "import arcpy.sa\n",
    "     "
   ]
  },
  {
   "cell_type": "code",
   "execution_count": 3,
   "metadata": {},
   "outputs": [],
   "source": [
    "## Workspace\n",
    "arcpy.env.workspace = r\"C:\\Users\\justi\\Documents\\2025_WinterQuarter\\GEOG581\\Term_Project\\PlanetLabs_comps\""
   ]
  },
  {
   "cell_type": "code",
   "execution_count": 6,
   "metadata": {},
   "outputs": [
    {
     "name": "stdout",
     "output_type": "stream",
     "text": [
      "C:\\Users\\justi\\Documents\\2025_WinterQuarter\\GEOG581\\Term_Project\\PlanetLabs_ndvi_rasters\\pl_ndvi_2017.tif\n",
      "C:\\Users\\justi\\Documents\\2025_WinterQuarter\\GEOG581\\Term_Project\\PlanetLabs_ndvi_rasters\\pl_ndvi_2018.tif\n",
      "C:\\Users\\justi\\Documents\\2025_WinterQuarter\\GEOG581\\Term_Project\\PlanetLabs_ndvi_rasters\\pl_ndvi_2019.tif\n",
      "C:\\Users\\justi\\Documents\\2025_WinterQuarter\\GEOG581\\Term_Project\\PlanetLabs_ndvi_rasters\\pl_ndvi_2020.tif\n",
      "C:\\Users\\justi\\Documents\\2025_WinterQuarter\\GEOG581\\Term_Project\\PlanetLabs_ndvi_rasters\\pl_ndvi_2021.tif\n",
      "C:\\Users\\justi\\Documents\\2025_WinterQuarter\\GEOG581\\Term_Project\\PlanetLabs_ndvi_rasters\\pl_ndvi_2022.tif\n",
      "C:\\Users\\justi\\Documents\\2025_WinterQuarter\\GEOG581\\Term_Project\\PlanetLabs_ndvi_rasters\\pl_ndvi_2023.tif\n",
      "C:\\Users\\justi\\Documents\\2025_WinterQuarter\\GEOG581\\Term_Project\\PlanetLabs_ndvi_rasters\\pl_ndvi_2024.tif\n"
     ]
    }
   ],
   "source": [
    "## Trialling for loop before running NDVI ## \n",
    "comp_rasters = arcpy.ListRasters()\n",
    "for comp_raster in comp_rasters:\n",
    "    part = comp_raster.split('.')[0].split('_')[1]\n",
    "    out_raster = r\"C:\\Users\\justi\\Documents\\2025_WinterQuarter\\GEOG581\\Term_Project\\PlanetLabs_ndvi_rasters\\pl_ndvi_\" + part + \".tif\"\n",
    "    print(out_raster)"
   ]
  },
  {
   "cell_type": "code",
   "execution_count": 7,
   "metadata": {},
   "outputs": [],
   "source": [
    "## NDVI, planet labs also assigns NIR to 4 and Red to 3\n",
    "arcpy.env.workspace = r\"C:\\Users\\justi\\Documents\\2025_WinterQuarter\\GEOG581\\Term_Project\\PlanetLabs_comps\"\n",
    "comp_rasters = arcpy.ListRasters()\n",
    "for comp_raster in comp_rasters:\n",
    "    ndvi_raster = arcpy.ia.NDVI(comp_raster, 4,3)\n",
    "    part = comp_raster.split('.')[0].split('_')[1]\n",
    "    out_raster = r\"C:\\Users\\justi\\Documents\\2025_WinterQuarter\\GEOG581\\Term_Project\\PlanetLabs_ndvi_rasters\\pl_ndvi_\" + part + \".tif\"\n",
    "    arcpy.CopyRaster_management(ndvi_raster, out_raster)"
   ]
  },
  {
   "cell_type": "code",
   "execution_count": 21,
   "metadata": {},
   "outputs": [],
   "source": [
    "## Reprojecting rasters to the same as my CBGs ## \n",
    "arcpy.env.workspace = r\"C:\\Users\\justi\\Documents\\2025_WinterQuarter\\GEOG581\\Term_Project\\PlanetLabs_ndvi_rasters\"\n",
    "ndvi_rasters = arcpy.ListRasters()\n",
    "for ndvi_raster in ndvi_rasters:\n",
    "    part = ndvi_raster.split('.')[0].split('_')[2]\n",
    "    out_raster = r\"C:\\Users\\justi\\Documents\\2025_WinterQuarter\\GEOG581\\Term_Project\\PlanetLabs_ndvi_rasters_proj\\pl_ndvi_\" + part + \"_proj.tif\"\n",
    "    out_coor_system = r\"C:\\Users\\justi\\Documents\\2025_WinterQuarter\\GEOG581\\Term_Project\\GEOG581_TermProject.gdb\\pdx_cbgs\"\n",
    "    resampling_type = \"BILINEAR\"\n",
    "    #description = arcpy.Describe(ndvi_raster)\n",
    "    #cell_size = description.children[0].meanCellHeight\n",
    "    geographic_transform = \"WGS_1984_(ITRF08)_To_NAD_1983_2011\"\n",
    "    arcpy.management.ProjectRaster(ndvi_raster, out_raster, out_coor_system, resampling_type, \"\", geographic_transform)"
   ]
  },
  {
   "cell_type": "code",
   "execution_count": null,
   "metadata": {},
   "outputs": [],
   "source": []
  }
 ],
 "metadata": {
  "kernelspec": {
   "display_name": "ArcGISPro",
   "language": "python",
   "name": "python3"
  },
  "language_info": {
   "file_extension": ".py",
   "mimetype": "text/x-python",
   "name": "python",
   "version": "3.11.10"
  }
 },
 "nbformat": 4,
 "nbformat_minor": 4
}
